{
 "cells": [
  {
   "cell_type": "markdown",
   "metadata": {
    "id": "-Dpq016WCld5"
   },
   "source": [
    "# Libraries"
   ]
  },
  {
   "cell_type": "code",
   "execution_count": 1,
   "metadata": {
    "executionInfo": {
     "elapsed": 397,
     "status": "ok",
     "timestamp": 1637622584686,
     "user": {
      "displayName": "Logistica Seoyon",
      "photoUrl": "https://lh3.googleusercontent.com/a/default-user=s64",
      "userId": "17743499552647287504"
     },
     "user_tz": 180
    },
    "id": "naNScobLRXa6"
   },
   "outputs": [],
   "source": [
    "import pandas as pd"
   ]
  },
  {
   "cell_type": "code",
   "execution_count": 2,
   "metadata": {
    "executionInfo": {
     "elapsed": 343,
     "status": "ok",
     "timestamp": 1637622585293,
     "user": {
      "displayName": "Logistica Seoyon",
      "photoUrl": "https://lh3.googleusercontent.com/a/default-user=s64",
      "userId": "17743499552647287504"
     },
     "user_tz": 180
    },
    "id": "4F7EFVFcRp0p"
   },
   "outputs": [],
   "source": [
    "import numpy as np"
   ]
  },
  {
   "cell_type": "code",
   "execution_count": 3,
   "metadata": {
    "executionInfo": {
     "elapsed": 438,
     "status": "ok",
     "timestamp": 1637622585727,
     "user": {
      "displayName": "Logistica Seoyon",
      "photoUrl": "https://lh3.googleusercontent.com/a/default-user=s64",
      "userId": "17743499552647287504"
     },
     "user_tz": 180
    },
    "id": "5rn15AymbdOo"
   },
   "outputs": [],
   "source": [
    "import seaborn as sns"
   ]
  },
  {
   "cell_type": "code",
   "execution_count": 4,
   "metadata": {
    "executionInfo": {
     "elapsed": 4,
     "status": "ok",
     "timestamp": 1637622585728,
     "user": {
      "displayName": "Logistica Seoyon",
      "photoUrl": "https://lh3.googleusercontent.com/a/default-user=s64",
      "userId": "17743499552647287504"
     },
     "user_tz": 180
    },
    "id": "6zvTrU4VB2Rr"
   },
   "outputs": [],
   "source": [
    "from matplotlib import pyplot as plt"
   ]
  },
  {
   "cell_type": "markdown",
   "metadata": {
    "id": "fd0ixDbQS_91"
   },
   "source": [
    "# Data import"
   ]
  },
  {
   "cell_type": "code",
   "execution_count": 5,
   "metadata": {
    "executionInfo": {
     "elapsed": 594,
     "status": "ok",
     "timestamp": 1637622586318,
     "user": {
      "displayName": "Logistica Seoyon",
      "photoUrl": "https://lh3.googleusercontent.com/a/default-user=s64",
      "userId": "17743499552647287504"
     },
     "user_tz": 180
    },
    "id": "wwx_1PoKRxq5"
   },
   "outputs": [],
   "source": [
    "train = pd.read_csv('train.csv')\n",
    "test = pd.read_csv('test.csv')"
   ]
  },
  {
   "cell_type": "markdown",
   "metadata": {
    "id": "YPD0VRWMTDgF"
   },
   "source": [
    "# Exploratory data Analysis\n",
    "\n",
    "\n"
   ]
  },
  {
   "cell_type": "code",
   "execution_count": 6,
   "metadata": {
    "colab": {
     "base_uri": "https://localhost:8080/",
     "height": 206
    },
    "executionInfo": {
     "elapsed": 20,
     "status": "ok",
     "timestamp": 1637622586320,
     "user": {
      "displayName": "Logistica Seoyon",
      "photoUrl": "https://lh3.googleusercontent.com/a/default-user=s64",
      "userId": "17743499552647287504"
     },
     "user_tz": 180
    },
    "id": "b0XKoWFiSU3J",
    "outputId": "b5dd4674-3029-4a71-f279-85380b5c0f07"
   },
   "outputs": [
    {
     "data": {
      "text/html": [
       "<div>\n",
       "<style scoped>\n",
       "    .dataframe tbody tr th:only-of-type {\n",
       "        vertical-align: middle;\n",
       "    }\n",
       "\n",
       "    .dataframe tbody tr th {\n",
       "        vertical-align: top;\n",
       "    }\n",
       "\n",
       "    .dataframe thead th {\n",
       "        text-align: right;\n",
       "    }\n",
       "</style>\n",
       "<table border=\"1\" class=\"dataframe\">\n",
       "  <thead>\n",
       "    <tr style=\"text-align: right;\">\n",
       "      <th></th>\n",
       "      <th>PassengerId</th>\n",
       "      <th>Survived</th>\n",
       "      <th>Pclass</th>\n",
       "      <th>Name</th>\n",
       "      <th>Sex</th>\n",
       "      <th>Age</th>\n",
       "      <th>SibSp</th>\n",
       "      <th>Parch</th>\n",
       "      <th>Ticket</th>\n",
       "      <th>Fare</th>\n",
       "      <th>Cabin</th>\n",
       "      <th>Embarked</th>\n",
       "    </tr>\n",
       "  </thead>\n",
       "  <tbody>\n",
       "    <tr>\n",
       "      <th>0</th>\n",
       "      <td>1</td>\n",
       "      <td>0</td>\n",
       "      <td>3</td>\n",
       "      <td>Braund, Mr. Owen Harris</td>\n",
       "      <td>male</td>\n",
       "      <td>22.0</td>\n",
       "      <td>1</td>\n",
       "      <td>0</td>\n",
       "      <td>A/5 21171</td>\n",
       "      <td>7.2500</td>\n",
       "      <td>NaN</td>\n",
       "      <td>S</td>\n",
       "    </tr>\n",
       "    <tr>\n",
       "      <th>1</th>\n",
       "      <td>2</td>\n",
       "      <td>1</td>\n",
       "      <td>1</td>\n",
       "      <td>Cumings, Mrs. John Bradley (Florence Briggs Th...</td>\n",
       "      <td>female</td>\n",
       "      <td>38.0</td>\n",
       "      <td>1</td>\n",
       "      <td>0</td>\n",
       "      <td>PC 17599</td>\n",
       "      <td>71.2833</td>\n",
       "      <td>C85</td>\n",
       "      <td>C</td>\n",
       "    </tr>\n",
       "    <tr>\n",
       "      <th>2</th>\n",
       "      <td>3</td>\n",
       "      <td>1</td>\n",
       "      <td>3</td>\n",
       "      <td>Heikkinen, Miss. Laina</td>\n",
       "      <td>female</td>\n",
       "      <td>26.0</td>\n",
       "      <td>0</td>\n",
       "      <td>0</td>\n",
       "      <td>STON/O2. 3101282</td>\n",
       "      <td>7.9250</td>\n",
       "      <td>NaN</td>\n",
       "      <td>S</td>\n",
       "    </tr>\n",
       "    <tr>\n",
       "      <th>3</th>\n",
       "      <td>4</td>\n",
       "      <td>1</td>\n",
       "      <td>1</td>\n",
       "      <td>Futrelle, Mrs. Jacques Heath (Lily May Peel)</td>\n",
       "      <td>female</td>\n",
       "      <td>35.0</td>\n",
       "      <td>1</td>\n",
       "      <td>0</td>\n",
       "      <td>113803</td>\n",
       "      <td>53.1000</td>\n",
       "      <td>C123</td>\n",
       "      <td>S</td>\n",
       "    </tr>\n",
       "    <tr>\n",
       "      <th>4</th>\n",
       "      <td>5</td>\n",
       "      <td>0</td>\n",
       "      <td>3</td>\n",
       "      <td>Allen, Mr. William Henry</td>\n",
       "      <td>male</td>\n",
       "      <td>35.0</td>\n",
       "      <td>0</td>\n",
       "      <td>0</td>\n",
       "      <td>373450</td>\n",
       "      <td>8.0500</td>\n",
       "      <td>NaN</td>\n",
       "      <td>S</td>\n",
       "    </tr>\n",
       "  </tbody>\n",
       "</table>\n",
       "</div>"
      ],
      "text/plain": [
       "   PassengerId  Survived  Pclass  ...     Fare Cabin  Embarked\n",
       "0            1         0       3  ...   7.2500   NaN         S\n",
       "1            2         1       1  ...  71.2833   C85         C\n",
       "2            3         1       3  ...   7.9250   NaN         S\n",
       "3            4         1       1  ...  53.1000  C123         S\n",
       "4            5         0       3  ...   8.0500   NaN         S\n",
       "\n",
       "[5 rows x 12 columns]"
      ]
     },
     "execution_count": 6,
     "metadata": {},
     "output_type": "execute_result"
    }
   ],
   "source": [
    "train.head()"
   ]
  },
  {
   "cell_type": "code",
   "execution_count": 7,
   "metadata": {
    "colab": {
     "base_uri": "https://localhost:8080/",
     "height": 300
    },
    "executionInfo": {
     "elapsed": 19,
     "status": "ok",
     "timestamp": 1637622586321,
     "user": {
      "displayName": "Logistica Seoyon",
      "photoUrl": "https://lh3.googleusercontent.com/a/default-user=s64",
      "userId": "17743499552647287504"
     },
     "user_tz": 180
    },
    "id": "SmyJwQVy9u7G",
    "outputId": "ee146b22-76b9-4c7f-f76e-1ae142267380"
   },
   "outputs": [
    {
     "data": {
      "text/html": [
       "<div>\n",
       "<style scoped>\n",
       "    .dataframe tbody tr th:only-of-type {\n",
       "        vertical-align: middle;\n",
       "    }\n",
       "\n",
       "    .dataframe tbody tr th {\n",
       "        vertical-align: top;\n",
       "    }\n",
       "\n",
       "    .dataframe thead th {\n",
       "        text-align: right;\n",
       "    }\n",
       "</style>\n",
       "<table border=\"1\" class=\"dataframe\">\n",
       "  <thead>\n",
       "    <tr style=\"text-align: right;\">\n",
       "      <th></th>\n",
       "      <th>PassengerId</th>\n",
       "      <th>Survived</th>\n",
       "      <th>Pclass</th>\n",
       "      <th>Age</th>\n",
       "      <th>SibSp</th>\n",
       "      <th>Parch</th>\n",
       "      <th>Fare</th>\n",
       "    </tr>\n",
       "  </thead>\n",
       "  <tbody>\n",
       "    <tr>\n",
       "      <th>count</th>\n",
       "      <td>891.000000</td>\n",
       "      <td>891.000000</td>\n",
       "      <td>891.000000</td>\n",
       "      <td>714.000000</td>\n",
       "      <td>891.000000</td>\n",
       "      <td>891.000000</td>\n",
       "      <td>891.000000</td>\n",
       "    </tr>\n",
       "    <tr>\n",
       "      <th>mean</th>\n",
       "      <td>446.000000</td>\n",
       "      <td>0.383838</td>\n",
       "      <td>2.308642</td>\n",
       "      <td>29.699118</td>\n",
       "      <td>0.523008</td>\n",
       "      <td>0.381594</td>\n",
       "      <td>32.204208</td>\n",
       "    </tr>\n",
       "    <tr>\n",
       "      <th>std</th>\n",
       "      <td>257.353842</td>\n",
       "      <td>0.486592</td>\n",
       "      <td>0.836071</td>\n",
       "      <td>14.526497</td>\n",
       "      <td>1.102743</td>\n",
       "      <td>0.806057</td>\n",
       "      <td>49.693429</td>\n",
       "    </tr>\n",
       "    <tr>\n",
       "      <th>min</th>\n",
       "      <td>1.000000</td>\n",
       "      <td>0.000000</td>\n",
       "      <td>1.000000</td>\n",
       "      <td>0.420000</td>\n",
       "      <td>0.000000</td>\n",
       "      <td>0.000000</td>\n",
       "      <td>0.000000</td>\n",
       "    </tr>\n",
       "    <tr>\n",
       "      <th>25%</th>\n",
       "      <td>223.500000</td>\n",
       "      <td>0.000000</td>\n",
       "      <td>2.000000</td>\n",
       "      <td>20.125000</td>\n",
       "      <td>0.000000</td>\n",
       "      <td>0.000000</td>\n",
       "      <td>7.910400</td>\n",
       "    </tr>\n",
       "    <tr>\n",
       "      <th>50%</th>\n",
       "      <td>446.000000</td>\n",
       "      <td>0.000000</td>\n",
       "      <td>3.000000</td>\n",
       "      <td>28.000000</td>\n",
       "      <td>0.000000</td>\n",
       "      <td>0.000000</td>\n",
       "      <td>14.454200</td>\n",
       "    </tr>\n",
       "    <tr>\n",
       "      <th>75%</th>\n",
       "      <td>668.500000</td>\n",
       "      <td>1.000000</td>\n",
       "      <td>3.000000</td>\n",
       "      <td>38.000000</td>\n",
       "      <td>1.000000</td>\n",
       "      <td>0.000000</td>\n",
       "      <td>31.000000</td>\n",
       "    </tr>\n",
       "    <tr>\n",
       "      <th>max</th>\n",
       "      <td>891.000000</td>\n",
       "      <td>1.000000</td>\n",
       "      <td>3.000000</td>\n",
       "      <td>80.000000</td>\n",
       "      <td>8.000000</td>\n",
       "      <td>6.000000</td>\n",
       "      <td>512.329200</td>\n",
       "    </tr>\n",
       "  </tbody>\n",
       "</table>\n",
       "</div>"
      ],
      "text/plain": [
       "       PassengerId    Survived      Pclass  ...       SibSp       Parch        Fare\n",
       "count   891.000000  891.000000  891.000000  ...  891.000000  891.000000  891.000000\n",
       "mean    446.000000    0.383838    2.308642  ...    0.523008    0.381594   32.204208\n",
       "std     257.353842    0.486592    0.836071  ...    1.102743    0.806057   49.693429\n",
       "min       1.000000    0.000000    1.000000  ...    0.000000    0.000000    0.000000\n",
       "25%     223.500000    0.000000    2.000000  ...    0.000000    0.000000    7.910400\n",
       "50%     446.000000    0.000000    3.000000  ...    0.000000    0.000000   14.454200\n",
       "75%     668.500000    1.000000    3.000000  ...    1.000000    0.000000   31.000000\n",
       "max     891.000000    1.000000    3.000000  ...    8.000000    6.000000  512.329200\n",
       "\n",
       "[8 rows x 7 columns]"
      ]
     },
     "execution_count": 7,
     "metadata": {},
     "output_type": "execute_result"
    }
   ],
   "source": [
    "train.describe()"
   ]
  },
  {
   "cell_type": "code",
   "execution_count": 8,
   "metadata": {
    "colab": {
     "base_uri": "https://localhost:8080/"
    },
    "executionInfo": {
     "elapsed": 18,
     "status": "ok",
     "timestamp": 1637622586322,
     "user": {
      "displayName": "Logistica Seoyon",
      "photoUrl": "https://lh3.googleusercontent.com/a/default-user=s64",
      "userId": "17743499552647287504"
     },
     "user_tz": 180
    },
    "id": "3GiNhlGbvCgs",
    "outputId": "adae5656-332c-448f-e95d-edd000657ddf"
   },
   "outputs": [
    {
     "name": "stdout",
     "output_type": "stream",
     "text": [
      "<class 'pandas.core.frame.DataFrame'>\n",
      "RangeIndex: 891 entries, 0 to 890\n",
      "Data columns (total 12 columns):\n",
      " #   Column       Non-Null Count  Dtype  \n",
      "---  ------       --------------  -----  \n",
      " 0   PassengerId  891 non-null    int64  \n",
      " 1   Survived     891 non-null    int64  \n",
      " 2   Pclass       891 non-null    int64  \n",
      " 3   Name         891 non-null    object \n",
      " 4   Sex          891 non-null    object \n",
      " 5   Age          714 non-null    float64\n",
      " 6   SibSp        891 non-null    int64  \n",
      " 7   Parch        891 non-null    int64  \n",
      " 8   Ticket       891 non-null    object \n",
      " 9   Fare         891 non-null    float64\n",
      " 10  Cabin        204 non-null    object \n",
      " 11  Embarked     889 non-null    object \n",
      "dtypes: float64(2), int64(5), object(5)\n",
      "memory usage: 83.7+ KB\n"
     ]
    }
   ],
   "source": [
    "train.info()"
   ]
  },
  {
   "cell_type": "code",
   "execution_count": 6,
   "metadata": {
    "executionInfo": {
     "elapsed": 15,
     "status": "ok",
     "timestamp": 1637622586323,
     "user": {
      "displayName": "Logistica Seoyon",
      "photoUrl": "https://lh3.googleusercontent.com/a/default-user=s64",
      "userId": "17743499552647287504"
     },
     "user_tz": 180
    },
    "id": "1nRa6AdxP4kV"
   },
   "outputs": [],
   "source": [
    "train_test = [train, test]"
   ]
  },
  {
   "cell_type": "markdown",
   "metadata": {
    "id": "YIKeMjTyBI5g"
   },
   "source": [
    "### Sex"
   ]
  },
  {
   "cell_type": "code",
   "execution_count": 7,
   "metadata": {
    "colab": {
     "base_uri": "https://localhost:8080/"
    },
    "executionInfo": {
     "elapsed": 15,
     "status": "ok",
     "timestamp": 1637622586324,
     "user": {
      "displayName": "Logistica Seoyon",
      "photoUrl": "https://lh3.googleusercontent.com/a/default-user=s64",
      "userId": "17743499552647287504"
     },
     "user_tz": 180
    },
    "id": "QaB_C6ZjBKgG",
    "outputId": "a838ddad-3952-4c85-c0ea-e2b5a67bf99c"
   },
   "outputs": [
    {
     "data": {
      "text/plain": [
       "Sex\n",
       "female    0.742038\n",
       "male      0.188908\n",
       "Name: Survived, dtype: float64"
      ]
     },
     "execution_count": 7,
     "metadata": {},
     "output_type": "execute_result"
    }
   ],
   "source": [
    "train[train['Survived'] == 1].groupby('Sex').count()['Survived'] / train.groupby('Sex').count()['Survived']"
   ]
  },
  {
   "cell_type": "markdown",
   "metadata": {
    "id": "J2KTvwOWwuUN"
   },
   "source": [
    "- The women's survived rate is 74%, while the men's survived rate is just 18,8%\n",
    "\n",
    "\n",
    "\n"
   ]
  },
  {
   "cell_type": "markdown",
   "metadata": {
    "id": "FzUnbt8HKV4Q"
   },
   "source": [
    "### Name"
   ]
  },
  {
   "cell_type": "code",
   "execution_count": 8,
   "metadata": {
    "colab": {
     "base_uri": "https://localhost:8080/",
     "height": 238
    },
    "executionInfo": {
     "elapsed": 429,
     "status": "ok",
     "timestamp": 1637622586741,
     "user": {
      "displayName": "Logistica Seoyon",
      "photoUrl": "https://lh3.googleusercontent.com/a/default-user=s64",
      "userId": "17743499552647287504"
     },
     "user_tz": 180
    },
    "id": "n-pEd67Go-U5",
    "outputId": "ac856034-45a0-4518-feb9-6bfe674e7b9f"
   },
   "outputs": [
    {
     "data": {
      "text/html": [
       "<div>\n",
       "<style scoped>\n",
       "    .dataframe tbody tr th:only-of-type {\n",
       "        vertical-align: middle;\n",
       "    }\n",
       "\n",
       "    .dataframe tbody tr th {\n",
       "        vertical-align: top;\n",
       "    }\n",
       "\n",
       "    .dataframe thead th {\n",
       "        text-align: right;\n",
       "    }\n",
       "</style>\n",
       "<table border=\"1\" class=\"dataframe\">\n",
       "  <thead>\n",
       "    <tr style=\"text-align: right;\">\n",
       "      <th></th>\n",
       "      <th>PassengerId</th>\n",
       "      <th>Survived</th>\n",
       "      <th>Pclass</th>\n",
       "      <th>Name</th>\n",
       "      <th>Sex</th>\n",
       "      <th>Age</th>\n",
       "      <th>SibSp</th>\n",
       "      <th>Parch</th>\n",
       "      <th>Ticket</th>\n",
       "      <th>Fare</th>\n",
       "      <th>Cabin</th>\n",
       "      <th>Embarked</th>\n",
       "    </tr>\n",
       "  </thead>\n",
       "  <tbody>\n",
       "    <tr>\n",
       "      <th>0</th>\n",
       "      <td>1</td>\n",
       "      <td>0</td>\n",
       "      <td>3</td>\n",
       "      <td>Mr</td>\n",
       "      <td>male</td>\n",
       "      <td>22.0</td>\n",
       "      <td>1</td>\n",
       "      <td>0</td>\n",
       "      <td>A/5 21171</td>\n",
       "      <td>7.2500</td>\n",
       "      <td>NaN</td>\n",
       "      <td>S</td>\n",
       "    </tr>\n",
       "    <tr>\n",
       "      <th>1</th>\n",
       "      <td>2</td>\n",
       "      <td>1</td>\n",
       "      <td>1</td>\n",
       "      <td>Mrs</td>\n",
       "      <td>female</td>\n",
       "      <td>38.0</td>\n",
       "      <td>1</td>\n",
       "      <td>0</td>\n",
       "      <td>PC 17599</td>\n",
       "      <td>71.2833</td>\n",
       "      <td>C85</td>\n",
       "      <td>C</td>\n",
       "    </tr>\n",
       "    <tr>\n",
       "      <th>2</th>\n",
       "      <td>3</td>\n",
       "      <td>1</td>\n",
       "      <td>3</td>\n",
       "      <td>Miss</td>\n",
       "      <td>female</td>\n",
       "      <td>26.0</td>\n",
       "      <td>0</td>\n",
       "      <td>0</td>\n",
       "      <td>STON/O2. 3101282</td>\n",
       "      <td>7.9250</td>\n",
       "      <td>NaN</td>\n",
       "      <td>S</td>\n",
       "    </tr>\n",
       "    <tr>\n",
       "      <th>3</th>\n",
       "      <td>4</td>\n",
       "      <td>1</td>\n",
       "      <td>1</td>\n",
       "      <td>Mrs</td>\n",
       "      <td>female</td>\n",
       "      <td>35.0</td>\n",
       "      <td>1</td>\n",
       "      <td>0</td>\n",
       "      <td>113803</td>\n",
       "      <td>53.1000</td>\n",
       "      <td>C123</td>\n",
       "      <td>S</td>\n",
       "    </tr>\n",
       "    <tr>\n",
       "      <th>4</th>\n",
       "      <td>5</td>\n",
       "      <td>0</td>\n",
       "      <td>3</td>\n",
       "      <td>Mr</td>\n",
       "      <td>male</td>\n",
       "      <td>35.0</td>\n",
       "      <td>0</td>\n",
       "      <td>0</td>\n",
       "      <td>373450</td>\n",
       "      <td>8.0500</td>\n",
       "      <td>NaN</td>\n",
       "      <td>S</td>\n",
       "    </tr>\n",
       "    <tr>\n",
       "      <th>5</th>\n",
       "      <td>6</td>\n",
       "      <td>0</td>\n",
       "      <td>3</td>\n",
       "      <td>Mr</td>\n",
       "      <td>male</td>\n",
       "      <td>NaN</td>\n",
       "      <td>0</td>\n",
       "      <td>0</td>\n",
       "      <td>330877</td>\n",
       "      <td>8.4583</td>\n",
       "      <td>NaN</td>\n",
       "      <td>Q</td>\n",
       "    </tr>\n",
       "  </tbody>\n",
       "</table>\n",
       "</div>"
      ],
      "text/plain": [
       "   PassengerId  Survived  Pclass  Name     Sex   Age  SibSp  Parch  \\\n",
       "0            1         0       3    Mr    male  22.0      1      0   \n",
       "1            2         1       1   Mrs  female  38.0      1      0   \n",
       "2            3         1       3  Miss  female  26.0      0      0   \n",
       "3            4         1       1   Mrs  female  35.0      1      0   \n",
       "4            5         0       3    Mr    male  35.0      0      0   \n",
       "5            6         0       3    Mr    male   NaN      0      0   \n",
       "\n",
       "             Ticket     Fare Cabin Embarked  \n",
       "0         A/5 21171   7.2500   NaN        S  \n",
       "1          PC 17599  71.2833   C85        C  \n",
       "2  STON/O2. 3101282   7.9250   NaN        S  \n",
       "3            113803  53.1000  C123        S  \n",
       "4            373450   8.0500   NaN        S  \n",
       "5            330877   8.4583   NaN        Q  "
      ]
     },
     "execution_count": 8,
     "metadata": {},
     "output_type": "execute_result"
    }
   ],
   "source": [
    "# Getting name title from \"Name\" column\n",
    "\n",
    "def get_title(x):\n",
    "  if \"Mr.\" in str(x):\n",
    "    return \"Mr\"\n",
    "  elif \"Mrs.\" in str(x):\n",
    "    return \"Mrs\"\n",
    "  elif \"Miss.\" in str(x):\n",
    "    return \"Miss\"\n",
    "  elif \"Master.\" in str(x):\n",
    "    return \"Master\"\n",
    "  else:\n",
    "    return \"Other\"\n",
    "\n",
    "for df in train_test:\n",
    "  df['Name'] = df['Name'].apply(get_title)\n",
    "\n",
    "train.head(6)\n",
    "\n",
    "\n"
   ]
  },
  {
   "cell_type": "code",
   "execution_count": 11,
   "metadata": {
    "colab": {
     "base_uri": "https://localhost:8080/",
     "height": 460
    },
    "executionInfo": {
     "elapsed": 417,
     "status": "ok",
     "timestamp": 1637622587149,
     "user": {
      "displayName": "Logistica Seoyon",
      "photoUrl": "https://lh3.googleusercontent.com/a/default-user=s64",
      "userId": "17743499552647287504"
     },
     "user_tz": 180
    },
    "id": "tVYvrEw9_R99",
    "outputId": "7b3b5584-f0de-43ef-f9a8-c86475133704"
   },
   "outputs": [
    {
     "data": {
      "text/plain": [
       "<AxesSubplot:xlabel='Age', ylabel='Name'>"
      ]
     },
     "execution_count": 11,
     "metadata": {},
     "output_type": "execute_result"
    },
    {
     "data": {
      "image/png": "[encoded data removed]",
      "text/plain": [
       "<Figure size 1080x432 with 1 Axes>"
      ]
     },
     "metadata": {
      "needs_background": "light"
     },
     "output_type": "display_data"
    }
   ],
   "source": [
    "x = train['Age']\n",
    "y = train['Name'] \n",
    "plt.figure(figsize=(15,6))\n",
    "sns.scatterplot(x , y,hue = train['Survived'])\n"
   ]
  },
  {
   "cell_type": "code",
   "execution_count": 12,
   "metadata": {
    "colab": {
     "base_uri": "https://localhost:8080/",
     "height": 351
    },
    "executionInfo": {
     "elapsed": 11,
     "status": "ok",
     "timestamp": 1637622587150,
     "user": {
      "displayName": "Logistica Seoyon",
      "photoUrl": "https://lh3.googleusercontent.com/a/default-user=s64",
      "userId": "17743499552647287504"
     },
     "user_tz": 180
    },
    "id": "D5v9tMC3D2Ex",
    "outputId": "f6a4cce5-2eb3-4a6e-a65b-d1f1871b253d"
   },
   "outputs": [
    {
     "data": {
      "text/plain": [
       "<AxesSubplot:xlabel='Name', ylabel='Survived'>"
      ]
     },
     "execution_count": 12,
     "metadata": {},
     "output_type": "execute_result"
    },
    {
     "data": {
      "image/png": "[encoded data removed]",
      "text/plain": [
       "<Figure size 432x288 with 1 Axes>"
      ]
     },
     "metadata": {
      "needs_background": "light"
     },
     "output_type": "display_data"
    }
   ],
   "source": [
    "percentage = train[train['Survived'] == 1].groupby('Name').count()['Survived'] / train.groupby('Name').count()['Survived']\n",
    "percentage = percentage.reset_index()\n",
    "sns.lineplot(percentage['Name'],percentage['Survived'])"
   ]
  },
  {
   "cell_type": "markdown",
   "metadata": {
    "id": "oTjAD0paKe_x"
   },
   "source": [
    "- The Chart confirms that women are more likely to survive than men. The \"Mr\" name title survived rate is less than 20% while the \"Miss\" and \"Mrs\" survived rate are more than 70%\n",
    "- \"Master\" title refers to boys, they are slightly more likely to survive."
   ]
  },
  {
   "cell_type": "markdown",
   "metadata": {
    "id": "4za1u6MFKZsW"
   },
   "source": [
    "### Cabin"
   ]
  },
  {
   "cell_type": "code",
   "execution_count": 9,
   "metadata": {
    "executionInfo": {
     "elapsed": 8,
     "status": "ok",
     "timestamp": 1637622587151,
     "user": {
      "displayName": "Logistica Seoyon",
      "photoUrl": "https://lh3.googleusercontent.com/a/default-user=s64",
      "userId": "17743499552647287504"
     },
     "user_tz": 180
    },
    "id": "kVqdBn4cTStV"
   },
   "outputs": [],
   "source": [
    "# Many NaN values on \"Cabin\", so I decided to drop this feature\n",
    "for df in train_test:\n",
    "  df.drop('Cabin',axis = 1, inplace = True)\n"
   ]
  },
  {
   "cell_type": "markdown",
   "metadata": {
    "id": "BFZ8WgbgKcPW"
   },
   "source": [
    "### Age"
   ]
  },
  {
   "cell_type": "code",
   "execution_count": 10,
   "metadata": {
    "executionInfo": {
     "elapsed": 8,
     "status": "ok",
     "timestamp": 1637622587151,
     "user": {
      "displayName": "Logistica Seoyon",
      "photoUrl": "https://lh3.googleusercontent.com/a/default-user=s64",
      "userId": "17743499552647287504"
     },
     "user_tz": 180
    },
    "id": "nM_TsKhTQn-2"
   },
   "outputs": [],
   "source": [
    "# Filling missing ages by the median of ages by name title\n",
    "\n",
    "for df in train_test:\n",
    "  dic = {\"Mr\":df[df['Name'] == \"Mr\"]['Age'].median(),\n",
    "  \"Miss\":df[df['Name'] == \"Miss\"]['Age'].median(),\n",
    "  \"Mrs\":df[df['Name'] == \"Mrs\"]['Age'].median(),\n",
    "  \"Master\":df[df['Name'] == \"Master\"]['Age'].median(),\n",
    "  \"Other\":df[df['Name'] == \"Other\"]['Age'].median()}\n",
    "\n",
    "  df[\"median\"] = df['Name']\n",
    "  df['median'] = df[\"median\"].apply(lambda x: dic[x])\n",
    "\n",
    "  df[\"Age\"].fillna(df['median'],inplace = True)  \n",
    "  df.drop(\"median\",axis = 1, inplace = True)\n"
   ]
  },
  {
   "cell_type": "code",
   "execution_count": 11,
   "metadata": {
    "executionInfo": {
     "elapsed": 8,
     "status": "ok",
     "timestamp": 1637622587152,
     "user": {
      "displayName": "Logistica Seoyon",
      "photoUrl": "https://lh3.googleusercontent.com/a/default-user=s64",
      "userId": "17743499552647287504"
     },
     "user_tz": 180
    },
    "id": "Qj7GM7PxJLx4"
   },
   "outputs": [],
   "source": [
    "# Age groups\n",
    "\n",
    "def group_age(x):\n",
    "  if x <= 20:\n",
    "    return 0\n",
    "  elif x > 20 and x <=40:\n",
    "    return 2\n",
    "  elif x > 40 and x <=60:\n",
    "    return 3\n",
    "  else:\n",
    "    return 4\n",
    "for df in train_test:\n",
    "  df['Age'] = df['Age'].apply(group_age)\n"
   ]
  },
  {
   "cell_type": "code",
   "execution_count": 17,
   "metadata": {
    "colab": {
     "base_uri": "https://localhost:8080/"
    },
    "executionInfo": {
     "elapsed": 330,
     "status": "ok",
     "timestamp": 1637622587474,
     "user": {
      "displayName": "Logistica Seoyon",
      "photoUrl": "https://lh3.googleusercontent.com/a/default-user=s64",
      "userId": "17743499552647287504"
     },
     "user_tz": 180
    },
    "id": "wJDzgAJ6Jw59",
    "outputId": "965bb828-3ce5-450b-dbf0-09fd6ba16642"
   },
   "outputs": [
    {
     "data": {
      "text/plain": [
       "2    557\n",
       "0    183\n",
       "3    129\n",
       "4     22\n",
       "Name: Age, dtype: int64"
      ]
     },
     "execution_count": 17,
     "metadata": {},
     "output_type": "execute_result"
    }
   ],
   "source": [
    "train['Age'].value_counts()"
   ]
  },
  {
   "cell_type": "code",
   "execution_count": 12,
   "metadata": {
    "colab": {
     "base_uri": "https://localhost:8080/"
    },
    "executionInfo": {
     "elapsed": 30,
     "status": "ok",
     "timestamp": 1637622587475,
     "user": {
      "displayName": "Logistica Seoyon",
      "photoUrl": "https://lh3.googleusercontent.com/a/default-user=s64",
      "userId": "17743499552647287504"
     },
     "user_tz": 180
    },
    "id": "5Nm0BbxsL3nD",
    "outputId": "557af938-eb8a-4c8c-e2b5-f20c872ae0ed"
   },
   "outputs": [
    {
     "data": {
      "text/plain": [
       "Age\n",
       "0    0.459016\n",
       "2    0.364452\n",
       "3    0.387597\n",
       "4    0.227273\n",
       "Name: Survived, dtype: float64"
      ]
     },
     "execution_count": 12,
     "metadata": {},
     "output_type": "execute_result"
    }
   ],
   "source": [
    "train[train['Survived'] == 1].groupby('Age').count()['Survived'] / train.groupby('Age').count()['Survived']\n"
   ]
  },
  {
   "cell_type": "markdown",
   "metadata": {
    "id": "lHLGnbadRVGQ"
   },
   "source": [
    "- Younger people are more likely to survive while older people are more likely to dead"
   ]
  },
  {
   "cell_type": "markdown",
   "metadata": {
    "id": "lrtxsKwsKfuO"
   },
   "source": [
    "### SibSp and Parch (Family members)"
   ]
  },
  {
   "cell_type": "code",
   "execution_count": 13,
   "metadata": {
    "executionInfo": {
     "elapsed": 28,
     "status": "ok",
     "timestamp": 1637622587476,
     "user": {
      "displayName": "Logistica Seoyon",
      "photoUrl": "https://lh3.googleusercontent.com/a/default-user=s64",
      "userId": "17743499552647287504"
     },
     "user_tz": 180
    },
    "id": "SrJjs73CjkT5"
   },
   "outputs": [],
   "source": [
    "#Sum of Sibsp And parch\n",
    "\n",
    "for df in train_test:\n",
    "  df['Family'] = df['SibSp'] + df['Parch']\n",
    "  df.drop(['SibSp','Parch'],axis = 1, inplace = True)"
   ]
  },
  {
   "cell_type": "code",
   "execution_count": 20,
   "metadata": {
    "colab": {
     "base_uri": "https://localhost:8080/"
    },
    "executionInfo": {
     "elapsed": 28,
     "status": "ok",
     "timestamp": 1637622587477,
     "user": {
      "displayName": "Logistica Seoyon",
      "photoUrl": "https://lh3.googleusercontent.com/a/default-user=s64",
      "userId": "17743499552647287504"
     },
     "user_tz": 180
    },
    "id": "kwVR6FB28CNo",
    "outputId": "7845babc-cad6-4cec-929a-5a2412bcfe33"
   },
   "outputs": [
    {
     "data": {
      "text/plain": [
       "0     537\n",
       "1     161\n",
       "2     102\n",
       "3      29\n",
       "5      22\n",
       "4      15\n",
       "6      12\n",
       "10      7\n",
       "7       6\n",
       "Name: Family, dtype: int64"
      ]
     },
     "execution_count": 20,
     "metadata": {},
     "output_type": "execute_result"
    }
   ],
   "source": [
    "train.Family.value_counts()"
   ]
  },
  {
   "cell_type": "code",
   "execution_count": 14,
   "metadata": {
    "colab": {
     "base_uri": "https://localhost:8080/"
    },
    "executionInfo": {
     "elapsed": 26,
     "status": "ok",
     "timestamp": 1637622587478,
     "user": {
      "displayName": "Logistica Seoyon",
      "photoUrl": "https://lh3.googleusercontent.com/a/default-user=s64",
      "userId": "17743499552647287504"
     },
     "user_tz": 180
    },
    "id": "wOqQPxFENLi-",
    "outputId": "17cf647c-a532-4beb-8c74-c94269b4a63f"
   },
   "outputs": [
    {
     "data": {
      "text/plain": [
       "Family\n",
       "0     0.303538\n",
       "1     0.552795\n",
       "2     0.578431\n",
       "3     0.724138\n",
       "4     0.200000\n",
       "5     0.136364\n",
       "6     0.333333\n",
       "7          NaN\n",
       "10         NaN\n",
       "Name: Survived, dtype: float64"
      ]
     },
     "execution_count": 14,
     "metadata": {},
     "output_type": "execute_result"
    }
   ],
   "source": [
    "train[train['Survived'] == 1].groupby('Family').count()['Survived'] / train.groupby('Family').count()['Survived']"
   ]
  },
  {
   "cell_type": "markdown",
   "metadata": {
    "id": "YmfMK43XIVme"
   },
   "source": [
    "- People with 1, 2 or 3 family members are more likely to survive"
   ]
  },
  {
   "cell_type": "markdown",
   "metadata": {
    "id": "pdCGhDqjPDtH"
   },
   "source": [
    "### Pclass"
   ]
  },
  {
   "cell_type": "code",
   "execution_count": 22,
   "metadata": {
    "colab": {
     "base_uri": "https://localhost:8080/"
    },
    "executionInfo": {
     "elapsed": 23,
     "status": "ok",
     "timestamp": 1637622587478,
     "user": {
      "displayName": "Logistica Seoyon",
      "photoUrl": "https://lh3.googleusercontent.com/a/default-user=s64",
      "userId": "17743499552647287504"
     },
     "user_tz": 180
    },
    "id": "WlDwZf_09JCV",
    "outputId": "12c9ff9a-8cb0-4080-aacc-8ab69d5a4ddb"
   },
   "outputs": [
    {
     "data": {
      "text/plain": [
       "3    491\n",
       "1    216\n",
       "2    184\n",
       "Name: Pclass, dtype: int64"
      ]
     },
     "execution_count": 22,
     "metadata": {},
     "output_type": "execute_result"
    }
   ],
   "source": [
    "train.Pclass.value_counts()"
   ]
  },
  {
   "cell_type": "code",
   "execution_count": 15,
   "metadata": {
    "colab": {
     "base_uri": "https://localhost:8080/"
    },
    "executionInfo": {
     "elapsed": 21,
     "status": "ok",
     "timestamp": 1637622587479,
     "user": {
      "displayName": "Logistica Seoyon",
      "photoUrl": "https://lh3.googleusercontent.com/a/default-user=s64",
      "userId": "17743499552647287504"
     },
     "user_tz": 180
    },
    "id": "70WJ2cSRPJHq",
    "outputId": "0cd35ef1-7f8b-45e6-d273-79ffb20b79b9"
   },
   "outputs": [
    {
     "data": {
      "text/plain": [
       "Pclass\n",
       "1    0.629630\n",
       "2    0.472826\n",
       "3    0.242363\n",
       "Name: Survived, dtype: float64"
      ]
     },
     "execution_count": 15,
     "metadata": {},
     "output_type": "execute_result"
    }
   ],
   "source": [
    "train[train['Survived'] == 1].groupby('Pclass').count()['Survived'] / train.groupby('Pclass').count()['Survived']\n"
   ]
  },
  {
   "cell_type": "markdown",
   "metadata": {
    "id": "C5oYxIASHTND"
   },
   "source": [
    " - People in class 1 are more likely to survive than other\n",
    " - People in class 3 are more likely to dead than other"
   ]
  },
  {
   "cell_type": "markdown",
   "metadata": {
    "id": "rFTucNEfTZC8"
   },
   "source": [
    "### Ticket"
   ]
  },
  {
   "cell_type": "code",
   "execution_count": 24,
   "metadata": {
    "colab": {
     "base_uri": "https://localhost:8080/"
    },
    "executionInfo": {
     "elapsed": 20,
     "status": "ok",
     "timestamp": 1637622587480,
     "user": {
      "displayName": "Logistica Seoyon",
      "photoUrl": "https://lh3.googleusercontent.com/a/default-user=s64",
      "userId": "17743499552647287504"
     },
     "user_tz": 180
    },
    "id": "UBowkMj1o1zN",
    "outputId": "bae1aa35-8073-42de-c2f2-18fd809a9645"
   },
   "outputs": [
    {
     "data": {
      "text/plain": [
       "CA. 2343    7\n",
       "1601        7\n",
       "347082      7\n",
       "3101295     6\n",
       "347088      6\n",
       "           ..\n",
       "243880      1\n",
       "315151      1\n",
       "2664        1\n",
       "248698      1\n",
       "250643      1\n",
       "Name: Ticket, Length: 681, dtype: int64"
      ]
     },
     "execution_count": 24,
     "metadata": {},
     "output_type": "execute_result"
    }
   ],
   "source": [
    "train['Ticket'].value_counts()"
   ]
  },
  {
   "cell_type": "code",
   "execution_count": 16,
   "metadata": {
    "executionInfo": {
     "elapsed": 17,
     "status": "ok",
     "timestamp": 1637622587480,
     "user": {
      "displayName": "Logistica Seoyon",
      "photoUrl": "https://lh3.googleusercontent.com/a/default-user=s64",
      "userId": "17743499552647287504"
     },
     "user_tz": 180
    },
    "id": "HrI4svpxlrhF"
   },
   "outputs": [],
   "source": [
    "# Ticket type (by the 3 firsts numbers)\n",
    "for df in train_test:\n",
    "  df['Ticket'] = df['Ticket'].apply(lambda x: x[0:3])"
   ]
  },
  {
   "cell_type": "code",
   "execution_count": 17,
   "metadata": {
    "colab": {
     "base_uri": "https://localhost:8080/",
     "height": 206
    },
    "executionInfo": {
     "elapsed": 18,
     "status": "ok",
     "timestamp": 1637622587481,
     "user": {
      "displayName": "Logistica Seoyon",
      "photoUrl": "https://lh3.googleusercontent.com/a/default-user=s64",
      "userId": "17743499552647287504"
     },
     "user_tz": 180
    },
    "id": "6gOn-hpfTNUp",
    "outputId": "775afcf0-1347-41c2-f9f9-78179887da34"
   },
   "outputs": [
    {
     "data": {
      "text/html": [
       "<div>\n",
       "<style scoped>\n",
       "    .dataframe tbody tr th:only-of-type {\n",
       "        vertical-align: middle;\n",
       "    }\n",
       "\n",
       "    .dataframe tbody tr th {\n",
       "        vertical-align: top;\n",
       "    }\n",
       "\n",
       "    .dataframe thead th {\n",
       "        text-align: right;\n",
       "    }\n",
       "</style>\n",
       "<table border=\"1\" class=\"dataframe\">\n",
       "  <thead>\n",
       "    <tr style=\"text-align: right;\">\n",
       "      <th></th>\n",
       "      <th>index</th>\n",
       "      <th>Ticket</th>\n",
       "    </tr>\n",
       "  </thead>\n",
       "  <tbody>\n",
       "    <tr>\n",
       "      <th>0</th>\n",
       "      <td>PC</td>\n",
       "      <td>60</td>\n",
       "    </tr>\n",
       "    <tr>\n",
       "      <th>1</th>\n",
       "      <td>349</td>\n",
       "      <td>53</td>\n",
       "    </tr>\n",
       "    <tr>\n",
       "      <th>2</th>\n",
       "      <td>347</td>\n",
       "      <td>48</td>\n",
       "    </tr>\n",
       "    <tr>\n",
       "      <th>3</th>\n",
       "      <td>113</td>\n",
       "      <td>47</td>\n",
       "    </tr>\n",
       "    <tr>\n",
       "      <th>4</th>\n",
       "      <td>C.A</td>\n",
       "      <td>28</td>\n",
       "    </tr>\n",
       "  </tbody>\n",
       "</table>\n",
       "</div>"
      ],
      "text/plain": [
       "  index  Ticket\n",
       "0   PC       60\n",
       "1   349      53\n",
       "2   347      48\n",
       "3   113      47\n",
       "4   C.A      28"
      ]
     },
     "execution_count": 17,
     "metadata": {},
     "output_type": "execute_result"
    }
   ],
   "source": [
    "ticket_frequence = train['Ticket'].value_counts().reset_index()\n",
    "ticket_frequence[ticket_frequence['Ticket'] >= 20]"
   ]
  },
  {
   "cell_type": "code",
   "execution_count": 18,
   "metadata": {
    "executionInfo": {
     "elapsed": 18,
     "status": "ok",
     "timestamp": 1637622587482,
     "user": {
      "displayName": "Logistica Seoyon",
      "photoUrl": "https://lh3.googleusercontent.com/a/default-user=s64",
      "userId": "17743499552647287504"
     },
     "user_tz": 180
    },
    "id": "Y7i3dus1VNDM"
   },
   "outputs": [],
   "source": [
    "def ticket(x):\n",
    "  if x != \"PC \" and x != \"349\" and x != \"347\" and x != \"113\" and x != \"C.A\":\n",
    "    return \"Other\"\n",
    "  else:\n",
    "    return x\n",
    "for df in train_test:\n",
    "  df['Ticket'] = df['Ticket'].apply(ticket)"
   ]
  },
  {
   "cell_type": "code",
   "execution_count": 28,
   "metadata": {
    "colab": {
     "base_uri": "https://localhost:8080/"
    },
    "executionInfo": {
     "elapsed": 19,
     "status": "ok",
     "timestamp": 1637622587483,
     "user": {
      "displayName": "Logistica Seoyon",
      "photoUrl": "https://lh3.googleusercontent.com/a/default-user=s64",
      "userId": "17743499552647287504"
     },
     "user_tz": 180
    },
    "id": "5rnyLI0yWN9c",
    "outputId": "2d4b9ccf-73a0-4c9d-fe37-a1e4c4a4ee57"
   },
   "outputs": [
    {
     "data": {
      "text/plain": [
       "Other    655\n",
       "PC        60\n",
       "349       53\n",
       "347       48\n",
       "113       47\n",
       "C.A       28\n",
       "Name: Ticket, dtype: int64"
      ]
     },
     "execution_count": 28,
     "metadata": {},
     "output_type": "execute_result"
    }
   ],
   "source": [
    "train['Ticket'].value_counts()"
   ]
  },
  {
   "cell_type": "code",
   "execution_count": 19,
   "metadata": {
    "colab": {
     "base_uri": "https://localhost:8080/",
     "height": 238
    },
    "executionInfo": {
     "elapsed": 341,
     "status": "ok",
     "timestamp": 1637622587808,
     "user": {
      "displayName": "Logistica Seoyon",
      "photoUrl": "https://lh3.googleusercontent.com/a/default-user=s64",
      "userId": "17743499552647287504"
     },
     "user_tz": 180
    },
    "id": "f7tdtphpSCNS",
    "outputId": "6222159c-fad3-4b42-9530-c865f67b94f8"
   },
   "outputs": [
    {
     "data": {
      "text/html": [
       "<div>\n",
       "<style scoped>\n",
       "    .dataframe tbody tr th:only-of-type {\n",
       "        vertical-align: middle;\n",
       "    }\n",
       "\n",
       "    .dataframe tbody tr th {\n",
       "        vertical-align: top;\n",
       "    }\n",
       "\n",
       "    .dataframe thead th {\n",
       "        text-align: right;\n",
       "    }\n",
       "</style>\n",
       "<table border=\"1\" class=\"dataframe\">\n",
       "  <thead>\n",
       "    <tr style=\"text-align: right;\">\n",
       "      <th></th>\n",
       "      <th>Ticket</th>\n",
       "      <th>Survived</th>\n",
       "    </tr>\n",
       "  </thead>\n",
       "  <tbody>\n",
       "    <tr>\n",
       "      <th>5</th>\n",
       "      <td>PC</td>\n",
       "      <td>0.650000</td>\n",
       "    </tr>\n",
       "    <tr>\n",
       "      <th>0</th>\n",
       "      <td>113</td>\n",
       "      <td>0.468085</td>\n",
       "    </tr>\n",
       "    <tr>\n",
       "      <th>3</th>\n",
       "      <td>C.A</td>\n",
       "      <td>0.464286</td>\n",
       "    </tr>\n",
       "    <tr>\n",
       "      <th>4</th>\n",
       "      <td>Other</td>\n",
       "      <td>0.387786</td>\n",
       "    </tr>\n",
       "    <tr>\n",
       "      <th>1</th>\n",
       "      <td>347</td>\n",
       "      <td>0.229167</td>\n",
       "    </tr>\n",
       "    <tr>\n",
       "      <th>2</th>\n",
       "      <td>349</td>\n",
       "      <td>0.056604</td>\n",
       "    </tr>\n",
       "  </tbody>\n",
       "</table>\n",
       "</div>"
      ],
      "text/plain": [
       "  Ticket  Survived\n",
       "5    PC   0.650000\n",
       "0    113  0.468085\n",
       "3    C.A  0.464286\n",
       "4  Other  0.387786\n",
       "1    347  0.229167\n",
       "2    349  0.056604"
      ]
     },
     "execution_count": 19,
     "metadata": {},
     "output_type": "execute_result"
    }
   ],
   "source": [
    "percentage_ticket = train[train['Survived'] == 1].groupby('Ticket').count()['Survived'] / train.groupby('Ticket').count()['Survived']\n",
    "percentage_ticket = percentage_ticket.reset_index()\n",
    "percentage_ticket.sort_values(\"Survived\",ascending = False,inplace = True)\n",
    "percentage_ticket.head(10)"
   ]
  },
  {
   "cell_type": "markdown",
   "metadata": {
    "id": "a9DyFdInR6dG"
   },
   "source": [
    "- \"PC\" tickets indicates higher chance of survival\n",
    "- \"349\" tickets indicates less chance of survival"
   ]
  },
  {
   "cell_type": "markdown",
   "metadata": {
    "id": "BU__mED5cQee"
   },
   "source": [
    "### Fare"
   ]
  },
  {
   "cell_type": "code",
   "execution_count": 13,
   "metadata": {
    "colab": {
     "base_uri": "https://localhost:8080/",
     "height": 351
    },
    "executionInfo": {
     "elapsed": 23,
     "status": "ok",
     "timestamp": 1637622587811,
     "user": {
      "displayName": "Logistica Seoyon",
      "photoUrl": "https://lh3.googleusercontent.com/a/default-user=s64",
      "userId": "17743499552647287504"
     },
     "user_tz": 180
    },
    "id": "-05vXQzMcRxy",
    "outputId": "aa0ad74f-906a-4bbe-b0e4-5325ffd71d61"
   },
   "outputs": [
    {
     "data": {
      "text/plain": [
       "<AxesSubplot:xlabel='Fare'>"
      ]
     },
     "execution_count": 13,
     "metadata": {},
     "output_type": "execute_result"
    },
    {
     "data": {
      "image/png": "[encoded data removed]",
      "text/plain": [
       "<Figure size 432x288 with 1 Axes>"
      ]
     },
     "metadata": {
      "needs_background": "light"
     },
     "output_type": "display_data"
    }
   ],
   "source": [
    "sns.boxplot(train['Fare'])"
   ]
  },
  {
   "cell_type": "code",
   "execution_count": 31,
   "metadata": {
    "colab": {
     "base_uri": "https://localhost:8080/"
    },
    "executionInfo": {
     "elapsed": 18,
     "status": "ok",
     "timestamp": 1637622587811,
     "user": {
      "displayName": "Logistica Seoyon",
      "photoUrl": "https://lh3.googleusercontent.com/a/default-user=s64",
      "userId": "17743499552647287504"
     },
     "user_tz": 180
    },
    "id": "9Jud0pBVdspS",
    "outputId": "fa850077-8adc-4de8-8a4c-2480d61f5d23"
   },
   "outputs": [
    {
     "name": "stdout",
     "output_type": "stream",
     "text": [
      "0.7763157894736842\n",
      "0.3488372093023256\n"
     ]
    }
   ],
   "source": [
    "print(len(train[(train['Fare'] >= 80) & (train['Survived'] == 1)]) / len(train[train['Fare'] >= 80]))\n",
    "print(len(train[(train['Fare'] <= 80) & (train['Survived'] == 1)]) / len(train[train['Fare'] <= 80]))"
   ]
  },
  {
   "cell_type": "code",
   "execution_count": 20,
   "metadata": {
    "executionInfo": {
     "elapsed": 15,
     "status": "ok",
     "timestamp": 1637622587812,
     "user": {
      "displayName": "Logistica Seoyon",
      "photoUrl": "https://lh3.googleusercontent.com/a/default-user=s64",
      "userId": "17743499552647287504"
     },
     "user_tz": 180
    },
    "id": "sX6CIiFYfzYg"
   },
   "outputs": [],
   "source": [
    "def fare (x):\n",
    "  if x <= 20:\n",
    "    return 0\n",
    "  elif x > 20 and x <= 50:\n",
    "    return 1\n",
    "  elif x > 50 and x <=80:\n",
    "    return 2\n",
    "  else:\n",
    "    return 3\n",
    "\n",
    "for df in train_test:\n",
    "  df['Fare'] = df['Fare'].apply(fare)"
   ]
  },
  {
   "cell_type": "code",
   "execution_count": 33,
   "metadata": {
    "colab": {
     "base_uri": "https://localhost:8080/"
    },
    "executionInfo": {
     "elapsed": 15,
     "status": "ok",
     "timestamp": 1637622587813,
     "user": {
      "displayName": "Logistica Seoyon",
      "photoUrl": "https://lh3.googleusercontent.com/a/default-user=s64",
      "userId": "17743499552647287504"
     },
     "user_tz": 180
    },
    "id": "_hxa2bOygwmy",
    "outputId": "cf3c0387-f0e6-4a94-af7d-65f3454822de"
   },
   "outputs": [
    {
     "data": {
      "text/plain": [
       "0    515\n",
       "1    216\n",
       "2     86\n",
       "3     74\n",
       "Name: Fare, dtype: int64"
      ]
     },
     "execution_count": 33,
     "metadata": {},
     "output_type": "execute_result"
    }
   ],
   "source": [
    "train['Fare'].value_counts()"
   ]
  },
  {
   "cell_type": "code",
   "execution_count": 22,
   "metadata": {
    "colab": {
     "base_uri": "https://localhost:8080/"
    },
    "executionInfo": {
     "elapsed": 14,
     "status": "ok",
     "timestamp": 1637622587814,
     "user": {
      "displayName": "Logistica Seoyon",
      "photoUrl": "https://lh3.googleusercontent.com/a/default-user=s64",
      "userId": "17743499552647287504"
     },
     "user_tz": 180
    },
    "id": "gWWrPHZLhFba",
    "outputId": "8099809c-88a8-41aa-d4dd-8e7ff5736b12"
   },
   "outputs": [
    {
     "data": {
      "text/plain": [
       "Fare\n",
       "0    0.277670\n",
       "1    0.416667\n",
       "2    0.604651\n",
       "3    0.770270\n",
       "Name: Survived, dtype: float64"
      ]
     },
     "execution_count": 22,
     "metadata": {},
     "output_type": "execute_result"
    }
   ],
   "source": [
    "train[train['Survived'] == 1].groupby('Fare').count()['Survived'] / train.groupby('Fare').count()['Survived']"
   ]
  },
  {
   "cell_type": "markdown",
   "metadata": {},
   "source": [
    "- Fare is directly proportional to the survival rate"
   ]
  },
  {
   "cell_type": "markdown",
   "metadata": {
    "id": "haTWC28slTk9"
   },
   "source": [
    "### Embarked"
   ]
  },
  {
   "cell_type": "code",
   "execution_count": 36,
   "metadata": {
    "colab": {
     "base_uri": "https://localhost:8080/"
    },
    "executionInfo": {
     "elapsed": 12,
     "status": "ok",
     "timestamp": 1637622587815,
     "user": {
      "displayName": "Logistica Seoyon",
      "photoUrl": "https://lh3.googleusercontent.com/a/default-user=s64",
      "userId": "17743499552647287504"
     },
     "user_tz": 180
    },
    "id": "vsTXJD0AhlBd",
    "outputId": "655a775e-d05b-4b4f-fbcd-2a6e714206bb"
   },
   "outputs": [
    {
     "data": {
      "text/plain": [
       "Embarked\n",
       "C    0.553571\n",
       "Q    0.389610\n",
       "S    0.336957\n",
       "Name: Survived, dtype: float64"
      ]
     },
     "execution_count": 36,
     "metadata": {},
     "output_type": "execute_result"
    }
   ],
   "source": [
    "train[train['Survived'] == 1].groupby('Embarked').count()['Survived'] / train.groupby('Embarked').count()['Survived']"
   ]
  },
  {
   "cell_type": "markdown",
   "metadata": {
    "id": "BW6NTsPOJFcq"
   },
   "source": [
    "- People who embarked on C port are slightly more likely to survive"
   ]
  },
  {
   "cell_type": "markdown",
   "metadata": {
    "id": "WHGzHpF3oFfl"
   },
   "source": [
    "### NaN's"
   ]
  },
  {
   "cell_type": "code",
   "execution_count": 37,
   "metadata": {
    "colab": {
     "base_uri": "https://localhost:8080/"
    },
    "executionInfo": {
     "elapsed": 324,
     "status": "ok",
     "timestamp": 1637622588130,
     "user": {
      "displayName": "Logistica Seoyon",
      "photoUrl": "https://lh3.googleusercontent.com/a/default-user=s64",
      "userId": "17743499552647287504"
     },
     "user_tz": 180
    },
    "id": "jqn2nbpdmqiZ",
    "outputId": "8460364f-8a05-4075-b0be-ddf91bfdb3f5"
   },
   "outputs": [
    {
     "name": "stdout",
     "output_type": "stream",
     "text": [
      "<class 'pandas.core.frame.DataFrame'>\n",
      "RangeIndex: 891 entries, 0 to 890\n",
      "Data columns (total 10 columns):\n",
      " #   Column       Non-Null Count  Dtype \n",
      "---  ------       --------------  ----- \n",
      " 0   PassengerId  891 non-null    int64 \n",
      " 1   Survived     891 non-null    int64 \n",
      " 2   Pclass       891 non-null    int64 \n",
      " 3   Name         891 non-null    object\n",
      " 4   Sex          891 non-null    object\n",
      " 5   Age          891 non-null    int64 \n",
      " 6   Ticket       891 non-null    object\n",
      " 7   Fare         891 non-null    int64 \n",
      " 8   Embarked     889 non-null    object\n",
      " 9   Family       891 non-null    int64 \n",
      "dtypes: int64(6), object(4)\n",
      "memory usage: 69.7+ KB\n"
     ]
    }
   ],
   "source": [
    "train.info()"
   ]
  },
  {
   "cell_type": "code",
   "execution_count": 38,
   "metadata": {
    "colab": {
     "base_uri": "https://localhost:8080/"
    },
    "executionInfo": {
     "elapsed": 19,
     "status": "ok",
     "timestamp": 1637622588131,
     "user": {
      "displayName": "Logistica Seoyon",
      "photoUrl": "https://lh3.googleusercontent.com/a/default-user=s64",
      "userId": "17743499552647287504"
     },
     "user_tz": 180
    },
    "id": "gM8gXtvSoDlD",
    "outputId": "5e4ab5ba-3d4b-497b-911c-31d2d5bb8c4f"
   },
   "outputs": [
    {
     "data": {
      "text/plain": [
       "S    644\n",
       "C    168\n",
       "Q     77\n",
       "Name: Embarked, dtype: int64"
      ]
     },
     "execution_count": 38,
     "metadata": {},
     "output_type": "execute_result"
    }
   ],
   "source": [
    "train.Embarked.value_counts()"
   ]
  },
  {
   "cell_type": "code",
   "execution_count": 39,
   "metadata": {
    "colab": {
     "base_uri": "https://localhost:8080/"
    },
    "executionInfo": {
     "elapsed": 16,
     "status": "ok",
     "timestamp": 1637622588132,
     "user": {
      "displayName": "Logistica Seoyon",
      "photoUrl": "https://lh3.googleusercontent.com/a/default-user=s64",
      "userId": "17743499552647287504"
     },
     "user_tz": 180
    },
    "id": "NPSLNWD8oN4J",
    "outputId": "546ada99-5c97-444f-dcb0-a46df979eea5"
   },
   "outputs": [
    {
     "name": "stdout",
     "output_type": "stream",
     "text": [
      "<class 'pandas.core.frame.DataFrame'>\n",
      "RangeIndex: 891 entries, 0 to 890\n",
      "Data columns (total 10 columns):\n",
      " #   Column       Non-Null Count  Dtype \n",
      "---  ------       --------------  ----- \n",
      " 0   PassengerId  891 non-null    int64 \n",
      " 1   Survived     891 non-null    int64 \n",
      " 2   Pclass       891 non-null    int64 \n",
      " 3   Name         891 non-null    object\n",
      " 4   Sex          891 non-null    object\n",
      " 5   Age          891 non-null    int64 \n",
      " 6   Ticket       891 non-null    object\n",
      " 7   Fare         891 non-null    int64 \n",
      " 8   Embarked     891 non-null    object\n",
      " 9   Family       891 non-null    int64 \n",
      "dtypes: int64(6), object(4)\n",
      "memory usage: 69.7+ KB\n"
     ]
    }
   ],
   "source": [
    "for df in train_test:\n",
    "  df['Embarked'] = df['Embarked'].fillna(\"S\")\n",
    "  \n",
    "train.info()"
   ]
  },
  {
   "cell_type": "markdown",
   "metadata": {
    "id": "SEQB_bJUmvkE"
   },
   "source": [
    "### Replacing categorical features by numbers"
   ]
  },
  {
   "cell_type": "code",
   "execution_count": 40,
   "metadata": {
    "colab": {
     "base_uri": "https://localhost:8080/"
    },
    "executionInfo": {
     "elapsed": 14,
     "status": "ok",
     "timestamp": 1637622588133,
     "user": {
      "displayName": "Logistica Seoyon",
      "photoUrl": "https://lh3.googleusercontent.com/a/default-user=s64",
      "userId": "17743499552647287504"
     },
     "user_tz": 180
    },
    "id": "awUJAbpBnCz_",
    "outputId": "845e7457-4bfd-4186-fe65-0df432c4b11c"
   },
   "outputs": [
    {
     "data": {
      "text/plain": [
       "S    646\n",
       "C    168\n",
       "Q     77\n",
       "Name: Embarked, dtype: int64"
      ]
     },
     "execution_count": 40,
     "metadata": {},
     "output_type": "execute_result"
    }
   ],
   "source": [
    "train.Embarked.value_counts()"
   ]
  },
  {
   "cell_type": "code",
   "execution_count": 41,
   "metadata": {
    "colab": {
     "base_uri": "https://localhost:8080/",
     "height": 206
    },
    "executionInfo": {
     "elapsed": 11,
     "status": "ok",
     "timestamp": 1637622588133,
     "user": {
      "displayName": "Logistica Seoyon",
      "photoUrl": "https://lh3.googleusercontent.com/a/default-user=s64",
      "userId": "17743499552647287504"
     },
     "user_tz": 180
    },
    "id": "Hw4ikbYDljdO",
    "outputId": "f8d4d983-0631-42b6-b60d-bffe7c43c15b"
   },
   "outputs": [
    {
     "data": {
      "text/html": [
       "<div>\n",
       "<style scoped>\n",
       "    .dataframe tbody tr th:only-of-type {\n",
       "        vertical-align: middle;\n",
       "    }\n",
       "\n",
       "    .dataframe tbody tr th {\n",
       "        vertical-align: top;\n",
       "    }\n",
       "\n",
       "    .dataframe thead th {\n",
       "        text-align: right;\n",
       "    }\n",
       "</style>\n",
       "<table border=\"1\" class=\"dataframe\">\n",
       "  <thead>\n",
       "    <tr style=\"text-align: right;\">\n",
       "      <th></th>\n",
       "      <th>PassengerId</th>\n",
       "      <th>Survived</th>\n",
       "      <th>Pclass</th>\n",
       "      <th>Name</th>\n",
       "      <th>Sex</th>\n",
       "      <th>Age</th>\n",
       "      <th>Ticket</th>\n",
       "      <th>Fare</th>\n",
       "      <th>Embarked</th>\n",
       "      <th>Family</th>\n",
       "    </tr>\n",
       "  </thead>\n",
       "  <tbody>\n",
       "    <tr>\n",
       "      <th>0</th>\n",
       "      <td>1</td>\n",
       "      <td>0</td>\n",
       "      <td>3</td>\n",
       "      <td>Mr</td>\n",
       "      <td>male</td>\n",
       "      <td>2</td>\n",
       "      <td>Other</td>\n",
       "      <td>0</td>\n",
       "      <td>S</td>\n",
       "      <td>1</td>\n",
       "    </tr>\n",
       "    <tr>\n",
       "      <th>1</th>\n",
       "      <td>2</td>\n",
       "      <td>1</td>\n",
       "      <td>1</td>\n",
       "      <td>Mrs</td>\n",
       "      <td>female</td>\n",
       "      <td>2</td>\n",
       "      <td>PC</td>\n",
       "      <td>2</td>\n",
       "      <td>C</td>\n",
       "      <td>1</td>\n",
       "    </tr>\n",
       "    <tr>\n",
       "      <th>2</th>\n",
       "      <td>3</td>\n",
       "      <td>1</td>\n",
       "      <td>3</td>\n",
       "      <td>Miss</td>\n",
       "      <td>female</td>\n",
       "      <td>2</td>\n",
       "      <td>Other</td>\n",
       "      <td>0</td>\n",
       "      <td>S</td>\n",
       "      <td>0</td>\n",
       "    </tr>\n",
       "    <tr>\n",
       "      <th>3</th>\n",
       "      <td>4</td>\n",
       "      <td>1</td>\n",
       "      <td>1</td>\n",
       "      <td>Mrs</td>\n",
       "      <td>female</td>\n",
       "      <td>2</td>\n",
       "      <td>113</td>\n",
       "      <td>2</td>\n",
       "      <td>S</td>\n",
       "      <td>1</td>\n",
       "    </tr>\n",
       "    <tr>\n",
       "      <th>4</th>\n",
       "      <td>5</td>\n",
       "      <td>0</td>\n",
       "      <td>3</td>\n",
       "      <td>Mr</td>\n",
       "      <td>male</td>\n",
       "      <td>2</td>\n",
       "      <td>Other</td>\n",
       "      <td>0</td>\n",
       "      <td>S</td>\n",
       "      <td>0</td>\n",
       "    </tr>\n",
       "  </tbody>\n",
       "</table>\n",
       "</div>"
      ],
      "text/plain": [
       "   PassengerId  Survived  Pclass  Name  ... Ticket  Fare Embarked  Family\n",
       "0            1         0       3    Mr  ...  Other     0        S       1\n",
       "1            2         1       1   Mrs  ...    PC      2        C       1\n",
       "2            3         1       3  Miss  ...  Other     0        S       0\n",
       "3            4         1       1   Mrs  ...    113     2        S       1\n",
       "4            5         0       3    Mr  ...  Other     0        S       0\n",
       "\n",
       "[5 rows x 10 columns]"
      ]
     },
     "execution_count": 41,
     "metadata": {},
     "output_type": "execute_result"
    }
   ],
   "source": [
    "train.head()"
   ]
  },
  {
   "cell_type": "code",
   "execution_count": 42,
   "metadata": {
    "executionInfo": {
     "elapsed": 9,
     "status": "ok",
     "timestamp": 1637622588134,
     "user": {
      "displayName": "Logistica Seoyon",
      "photoUrl": "https://lh3.googleusercontent.com/a/default-user=s64",
      "userId": "17743499552647287504"
     },
     "user_tz": 180
    },
    "id": "NSY0zN--m3nt"
   },
   "outputs": [],
   "source": [
    "Embarked = {\"S\":0,\"C\":1,\"Q\":2}\n",
    "Name = {\"Mr\":0,\"Miss\":1,\"Mrs\":2,\"Master\":3,\"Other\":4}\n",
    "Ticket = {\"PC \":0,\"349\":1,\"347\":2,\"113\":3,\"C.A\":4, \"Other\":5}\n",
    "Sex = {\"male\":0,\"female\":1}\n",
    "\n",
    "for df in train_test:\n",
    "  df['Sex'] = df[\"Sex\"].apply(lambda x: Sex[x])\n",
    "  df[\"Embarked\"] = df[\"Embarked\"].apply(lambda x: Embarked[x])\n",
    "  df[\"Name\"] = df[\"Name\"].apply(lambda x: Name[x])\n",
    "  df[\"Ticket\"] = df[\"Ticket\"].apply(lambda x: Ticket[x])\n",
    "\n"
   ]
  },
  {
   "cell_type": "code",
   "execution_count": 43,
   "metadata": {
    "colab": {
     "base_uri": "https://localhost:8080/",
     "height": 663
    },
    "executionInfo": {
     "elapsed": 1316,
     "status": "ok",
     "timestamp": 1637622589441,
     "user": {
      "displayName": "Logistica Seoyon",
      "photoUrl": "https://lh3.googleusercontent.com/a/default-user=s64",
      "userId": "17743499552647287504"
     },
     "user_tz": 180
    },
    "id": "PefqjAjxaSdW",
    "outputId": "b7b9356d-1041-4159-82be-6a0c47804f6e"
   },
   "outputs": [
    {
     "data": {
      "text/plain": [
       "<matplotlib.axes._subplots.AxesSubplot at 0x7ff477d41f50>"
      ]
     },
     "execution_count": 43,
     "metadata": {},
     "output_type": "execute_result"
    },
    {
     "data": {
      "image/png": "[encoded data removed]",
      "text/plain": [
       "<Figure size 720x720 with 2 Axes>"
      ]
     },
     "metadata": {
      "needs_background": "light"
     },
     "output_type": "display_data"
    }
   ],
   "source": [
    "# Correlation Between the features\n",
    "\n",
    "plt.figure(figsize=(10,10))\n",
    "sns.heatmap(train.corr().abs(), annot = True, cmap = \"Blues\")\n"
   ]
  },
  {
   "cell_type": "code",
   "execution_count": 44,
   "metadata": {
    "colab": {
     "base_uri": "https://localhost:8080/",
     "height": 206
    },
    "executionInfo": {
     "elapsed": 7,
     "status": "ok",
     "timestamp": 1637622589442,
     "user": {
      "displayName": "Logistica Seoyon",
      "photoUrl": "https://lh3.googleusercontent.com/a/default-user=s64",
      "userId": "17743499552647287504"
     },
     "user_tz": 180
    },
    "id": "jNBxiutoicX1",
    "outputId": "1b8ad5ef-22ec-43af-9296-1ec088a0ea74"
   },
   "outputs": [
    {
     "data": {
      "text/html": [
       "<div>\n",
       "<style scoped>\n",
       "    .dataframe tbody tr th:only-of-type {\n",
       "        vertical-align: middle;\n",
       "    }\n",
       "\n",
       "    .dataframe tbody tr th {\n",
       "        vertical-align: top;\n",
       "    }\n",
       "\n",
       "    .dataframe thead th {\n",
       "        text-align: right;\n",
       "    }\n",
       "</style>\n",
       "<table border=\"1\" class=\"dataframe\">\n",
       "  <thead>\n",
       "    <tr style=\"text-align: right;\">\n",
       "      <th></th>\n",
       "      <th>PassengerId</th>\n",
       "      <th>Survived</th>\n",
       "      <th>Pclass</th>\n",
       "      <th>Name</th>\n",
       "      <th>Sex</th>\n",
       "      <th>Age</th>\n",
       "      <th>Ticket</th>\n",
       "      <th>Fare</th>\n",
       "      <th>Embarked</th>\n",
       "      <th>Family</th>\n",
       "    </tr>\n",
       "  </thead>\n",
       "  <tbody>\n",
       "    <tr>\n",
       "      <th>0</th>\n",
       "      <td>1</td>\n",
       "      <td>0</td>\n",
       "      <td>3</td>\n",
       "      <td>0</td>\n",
       "      <td>0</td>\n",
       "      <td>2</td>\n",
       "      <td>5</td>\n",
       "      <td>0</td>\n",
       "      <td>0</td>\n",
       "      <td>1</td>\n",
       "    </tr>\n",
       "    <tr>\n",
       "      <th>1</th>\n",
       "      <td>2</td>\n",
       "      <td>1</td>\n",
       "      <td>1</td>\n",
       "      <td>2</td>\n",
       "      <td>1</td>\n",
       "      <td>2</td>\n",
       "      <td>0</td>\n",
       "      <td>2</td>\n",
       "      <td>1</td>\n",
       "      <td>1</td>\n",
       "    </tr>\n",
       "    <tr>\n",
       "      <th>2</th>\n",
       "      <td>3</td>\n",
       "      <td>1</td>\n",
       "      <td>3</td>\n",
       "      <td>1</td>\n",
       "      <td>1</td>\n",
       "      <td>2</td>\n",
       "      <td>5</td>\n",
       "      <td>0</td>\n",
       "      <td>0</td>\n",
       "      <td>0</td>\n",
       "    </tr>\n",
       "    <tr>\n",
       "      <th>3</th>\n",
       "      <td>4</td>\n",
       "      <td>1</td>\n",
       "      <td>1</td>\n",
       "      <td>2</td>\n",
       "      <td>1</td>\n",
       "      <td>2</td>\n",
       "      <td>3</td>\n",
       "      <td>2</td>\n",
       "      <td>0</td>\n",
       "      <td>1</td>\n",
       "    </tr>\n",
       "    <tr>\n",
       "      <th>4</th>\n",
       "      <td>5</td>\n",
       "      <td>0</td>\n",
       "      <td>3</td>\n",
       "      <td>0</td>\n",
       "      <td>0</td>\n",
       "      <td>2</td>\n",
       "      <td>5</td>\n",
       "      <td>0</td>\n",
       "      <td>0</td>\n",
       "      <td>0</td>\n",
       "    </tr>\n",
       "  </tbody>\n",
       "</table>\n",
       "</div>"
      ],
      "text/plain": [
       "   PassengerId  Survived  Pclass  Name  ...  Ticket  Fare  Embarked  Family\n",
       "0            1         0       3     0  ...       5     0         0       1\n",
       "1            2         1       1     2  ...       0     2         1       1\n",
       "2            3         1       3     1  ...       5     0         0       0\n",
       "3            4         1       1     2  ...       3     2         0       1\n",
       "4            5         0       3     0  ...       5     0         0       0\n",
       "\n",
       "[5 rows x 10 columns]"
      ]
     },
     "execution_count": 44,
     "metadata": {},
     "output_type": "execute_result"
    }
   ],
   "source": [
    "train.head()"
   ]
  },
  {
   "cell_type": "markdown",
   "metadata": {
    "id": "zRcOcho3CKcU"
   },
   "source": [
    "# Machine Learning"
   ]
  },
  {
   "cell_type": "code",
   "execution_count": 45,
   "metadata": {
    "executionInfo": {
     "elapsed": 7,
     "status": "ok",
     "timestamp": 1637622589443,
     "user": {
      "displayName": "Logistica Seoyon",
      "photoUrl": "https://lh3.googleusercontent.com/a/default-user=s64",
      "userId": "17743499552647287504"
     },
     "user_tz": 180
    },
    "id": "LjXL6ZhkCL3g"
   },
   "outputs": [],
   "source": [
    "features = ['Pclass','Name','Sex','Age','Ticket','Fare','Embarked','Family']\n",
    "X_train = train[features].copy()\n",
    "X_test = test[features].copy()\n",
    "y_train = train['Survived'].copy()\n"
   ]
  },
  {
   "cell_type": "markdown",
   "metadata": {
    "id": "SPQf3rkTBo7p"
   },
   "source": [
    "## Random Forest"
   ]
  },
  {
   "cell_type": "code",
   "execution_count": 46,
   "metadata": {
    "executionInfo": {
     "elapsed": 437,
     "status": "ok",
     "timestamp": 1637622589874,
     "user": {
      "displayName": "Logistica Seoyon",
      "photoUrl": "https://lh3.googleusercontent.com/a/default-user=s64",
      "userId": "17743499552647287504"
     },
     "user_tz": 180
    },
    "id": "VFDLAMPaKn3R"
   },
   "outputs": [],
   "source": [
    "from sklearn.ensemble import RandomForestClassifier"
   ]
  },
  {
   "cell_type": "code",
   "execution_count": 47,
   "metadata": {
    "colab": {
     "base_uri": "https://localhost:8080/"
    },
    "executionInfo": {
     "elapsed": 636,
     "status": "ok",
     "timestamp": 1637622590506,
     "user": {
      "displayName": "Logistica Seoyon",
      "photoUrl": "https://lh3.googleusercontent.com/a/default-user=s64",
      "userId": "17743499552647287504"
     },
     "user_tz": 180
    },
    "id": "Rf2jtGG5LD_O",
    "outputId": "9f514072-c90b-4ab1-dc3b-9e782db2f126"
   },
   "outputs": [
    {
     "data": {
      "text/plain": [
       "RandomForestClassifier(max_depth=3, n_estimators=500, random_state=2)"
      ]
     },
     "execution_count": 47,
     "metadata": {},
     "output_type": "execute_result"
    }
   ],
   "source": [
    "clf_rf = RandomForestClassifier(n_estimators=500, max_depth=3, random_state=2)\n",
    "clf_rf.fit(X_train, y_train)"
   ]
  },
  {
   "cell_type": "code",
   "execution_count": 48,
   "metadata": {
    "colab": {
     "base_uri": "https://localhost:8080/"
    },
    "executionInfo": {
     "elapsed": 7,
     "status": "ok",
     "timestamp": 1637622590507,
     "user": {
      "displayName": "Logistica Seoyon",
      "photoUrl": "https://lh3.googleusercontent.com/a/default-user=s64",
      "userId": "17743499552647287504"
     },
     "user_tz": 180
    },
    "id": "nxLdcsHBLQjd",
    "outputId": "79b7dc3e-bc4a-4710-9871-902d661dcad6"
   },
   "outputs": [
    {
     "data": {
      "text/plain": [
       "array([0, 1, 0, 0, 1, 0, 1, 0, 1, 0, 0, 0, 1, 0, 1, 1, 0, 0, 1, 1, 0, 0,\n",
       "       1, 0, 1, 0, 1, 0, 0, 0, 0, 0, 1, 1, 0, 0, 1, 1, 0, 0, 0, 0, 0, 1,\n",
       "       1, 0, 0, 0, 1, 1, 0, 0, 1, 1, 0, 0, 0, 0, 0, 1, 0, 0, 0, 1, 1, 1,\n",
       "       1, 0, 0, 1, 1, 0, 1, 0, 1, 0, 0, 1, 0, 1, 0, 0, 0, 0, 0, 0, 1, 1,\n",
       "       1, 1, 1, 0, 1, 0, 0, 0, 1, 0, 1, 0, 1, 0, 0, 0, 1, 0, 0, 0, 0, 0,\n",
       "       0, 1, 1, 1, 1, 0, 0, 1, 0, 1, 1, 0, 1, 0, 0, 1, 0, 1, 0, 0, 0, 0,\n",
       "       0, 0, 0, 0, 0, 0, 1, 0, 0, 1, 0, 0, 0, 0, 0, 0, 0, 0, 1, 0, 0, 1,\n",
       "       0, 0, 1, 1, 0, 1, 1, 0, 1, 0, 0, 1, 0, 0, 1, 1, 0, 0, 0, 0, 0, 1,\n",
       "       1, 0, 1, 1, 0, 0, 1, 0, 1, 0, 1, 0, 0, 0, 0, 0, 0, 0, 1, 0, 1, 1,\n",
       "       0, 1, 1, 0, 1, 1, 0, 0, 1, 0, 1, 0, 0, 0, 0, 1, 0, 0, 1, 0, 1, 0,\n",
       "       1, 0, 1, 0, 1, 1, 0, 1, 0, 0, 0, 1, 0, 0, 0, 0, 0, 0, 1, 1, 1, 1,\n",
       "       0, 0, 0, 0, 1, 0, 1, 1, 1, 0, 0, 0, 0, 0, 0, 0, 1, 0, 0, 0, 1, 1,\n",
       "       0, 0, 0, 0, 1, 0, 0, 0, 1, 1, 0, 1, 0, 0, 0, 0, 1, 0, 1, 1, 1, 0,\n",
       "       0, 0, 0, 0, 0, 1, 0, 1, 0, 0, 1, 0, 0, 0, 0, 0, 0, 0, 1, 1, 0, 0,\n",
       "       0, 1, 0, 0, 0, 1, 1, 1, 0, 0, 0, 0, 0, 0, 0, 0, 1, 0, 1, 0, 0, 0,\n",
       "       1, 0, 0, 1, 0, 0, 0, 0, 0, 0, 0, 0, 0, 1, 0, 1, 0, 1, 0, 1, 1, 0,\n",
       "       0, 0, 1, 0, 1, 0, 0, 1, 0, 1, 1, 0, 1, 0, 0, 1, 1, 0, 0, 1, 0, 0,\n",
       "       1, 1, 1, 0, 0, 0, 0, 0, 1, 1, 0, 1, 0, 0, 0, 0, 0, 1, 0, 0, 0, 1,\n",
       "       0, 1, 0, 0, 1, 0, 1, 0, 0, 0, 0, 0, 1, 1, 1, 1, 1, 0, 1, 0, 0, 0])"
      ]
     },
     "execution_count": 48,
     "metadata": {},
     "output_type": "execute_result"
    }
   ],
   "source": [
    "results_rf = clf_rf.predict(X_test)\n",
    "results_rf"
   ]
  },
  {
   "cell_type": "markdown",
   "metadata": {
    "id": "xw4fxB8CBrxQ"
   },
   "source": [
    "## Logistic Regression"
   ]
  },
  {
   "cell_type": "code",
   "execution_count": 49,
   "metadata": {
    "executionInfo": {
     "elapsed": 3,
     "status": "ok",
     "timestamp": 1637622590507,
     "user": {
      "displayName": "Logistica Seoyon",
      "photoUrl": "https://lh3.googleusercontent.com/a/default-user=s64",
      "userId": "17743499552647287504"
     },
     "user_tz": 180
    },
    "id": "l6wdA06jBi3h"
   },
   "outputs": [],
   "source": [
    "from sklearn.linear_model import LogisticRegression"
   ]
  },
  {
   "cell_type": "code",
   "execution_count": 50,
   "metadata": {
    "executionInfo": {
     "elapsed": 14,
     "status": "ok",
     "timestamp": 1637622590942,
     "user": {
      "displayName": "Logistica Seoyon",
      "photoUrl": "https://lh3.googleusercontent.com/a/default-user=s64",
      "userId": "17743499552647287504"
     },
     "user_tz": 180
    },
    "id": "hhpXfCyfB6z2"
   },
   "outputs": [],
   "source": [
    "clf_lr = LogisticRegression(random_state=0).fit(X_train, y_train)"
   ]
  },
  {
   "cell_type": "code",
   "execution_count": 51,
   "metadata": {
    "colab": {
     "base_uri": "https://localhost:8080/"
    },
    "executionInfo": {
     "elapsed": 15,
     "status": "ok",
     "timestamp": 1637622590943,
     "user": {
      "displayName": "Logistica Seoyon",
      "photoUrl": "https://lh3.googleusercontent.com/a/default-user=s64",
      "userId": "17743499552647287504"
     },
     "user_tz": 180
    },
    "id": "ZoOmLpAlB_ne",
    "outputId": "b8841747-0935-4980-94dd-68da8212a4cd"
   },
   "outputs": [
    {
     "data": {
      "text/plain": [
       "array([0, 1, 0, 0, 1, 0, 1, 0, 1, 0, 0, 0, 1, 0, 1, 1, 0, 0, 1, 1, 0, 0,\n",
       "       1, 0, 1, 0, 1, 0, 0, 0, 0, 0, 1, 1, 1, 0, 1, 1, 0, 0, 0, 0, 0, 1,\n",
       "       1, 0, 0, 0, 1, 0, 0, 0, 1, 1, 0, 0, 0, 0, 0, 1, 0, 0, 0, 1, 1, 1,\n",
       "       1, 0, 0, 1, 1, 0, 1, 0, 1, 1, 0, 1, 0, 1, 0, 0, 0, 0, 0, 0, 1, 1,\n",
       "       1, 1, 0, 0, 1, 0, 0, 0, 1, 0, 1, 0, 1, 0, 0, 0, 1, 0, 0, 0, 0, 0,\n",
       "       0, 1, 1, 1, 1, 0, 0, 1, 1, 1, 1, 0, 1, 0, 0, 1, 0, 1, 0, 0, 0, 1,\n",
       "       0, 0, 0, 0, 0, 0, 1, 0, 0, 1, 0, 0, 0, 0, 1, 0, 0, 1, 1, 0, 0, 1,\n",
       "       0, 0, 1, 0, 0, 1, 1, 0, 1, 0, 0, 1, 0, 0, 1, 1, 0, 0, 0, 0, 0, 1,\n",
       "       1, 0, 1, 1, 0, 0, 1, 0, 1, 0, 1, 0, 0, 0, 0, 0, 0, 0, 1, 0, 1, 1,\n",
       "       0, 1, 1, 0, 1, 1, 0, 0, 1, 0, 1, 0, 0, 0, 1, 1, 0, 0, 1, 0, 1, 0,\n",
       "       1, 0, 1, 0, 1, 1, 0, 1, 0, 0, 1, 1, 0, 0, 0, 0, 0, 0, 1, 1, 1, 1,\n",
       "       0, 0, 0, 0, 1, 0, 1, 1, 1, 0, 1, 0, 0, 0, 0, 0, 1, 0, 0, 0, 1, 1,\n",
       "       0, 0, 0, 0, 1, 0, 0, 0, 1, 1, 0, 1, 0, 0, 0, 0, 1, 0, 1, 1, 1, 0,\n",
       "       0, 1, 0, 0, 0, 1, 0, 1, 0, 0, 1, 0, 0, 0, 0, 0, 0, 0, 1, 1, 0, 0,\n",
       "       0, 1, 0, 0, 0, 1, 1, 1, 0, 0, 0, 0, 0, 0, 0, 0, 1, 0, 1, 0, 0, 0,\n",
       "       1, 0, 0, 1, 0, 0, 0, 0, 0, 1, 0, 0, 0, 1, 0, 1, 0, 1, 0, 1, 1, 0,\n",
       "       1, 0, 1, 0, 1, 0, 0, 0, 0, 1, 1, 0, 1, 0, 0, 1, 1, 0, 0, 1, 0, 0,\n",
       "       1, 1, 0, 0, 0, 0, 0, 0, 1, 1, 0, 1, 0, 0, 0, 0, 1, 1, 0, 0, 0, 1,\n",
       "       0, 1, 0, 0, 1, 0, 1, 1, 0, 0, 0, 0, 1, 1, 1, 1, 0, 0, 1, 0, 0, 1])"
      ]
     },
     "execution_count": 51,
     "metadata": {},
     "output_type": "execute_result"
    }
   ],
   "source": [
    "results_lr = clf_lr.predict(X_test)\n",
    "results_lr"
   ]
  },
  {
   "cell_type": "markdown",
   "metadata": {
    "id": "x4wlJt5wq5yE"
   },
   "source": [
    "# Export data"
   ]
  },
  {
   "cell_type": "code",
   "execution_count": 52,
   "metadata": {
    "colab": {
     "base_uri": "https://localhost:8080/"
    },
    "executionInfo": {
     "elapsed": 12,
     "status": "ok",
     "timestamp": 1637622590943,
     "user": {
      "displayName": "Logistica Seoyon",
      "photoUrl": "https://lh3.googleusercontent.com/a/default-user=s64",
      "userId": "17743499552647287504"
     },
     "user_tz": 180
    },
    "id": "C5naoQ5RLZ1k",
    "outputId": "d3e04d95-4de8-4e66-903a-a7e591d93912"
   },
   "outputs": [
    {
     "data": {
      "text/plain": [
       "0    265\n",
       "1    153\n",
       "Name: results, dtype: int64"
      ]
     },
     "execution_count": 52,
     "metadata": {},
     "output_type": "execute_result"
    }
   ],
   "source": [
    "export_df = test.copy()\n",
    "export_df['results'] = results_rf\n",
    "export_df['results'].value_counts()"
   ]
  },
  {
   "cell_type": "code",
   "execution_count": 53,
   "metadata": {
    "colab": {
     "base_uri": "https://localhost:8080/",
     "height": 206
    },
    "executionInfo": {
     "elapsed": 9,
     "status": "ok",
     "timestamp": 1637622590944,
     "user": {
      "displayName": "Logistica Seoyon",
      "photoUrl": "https://lh3.googleusercontent.com/a/default-user=s64",
      "userId": "17743499552647287504"
     },
     "user_tz": 180
    },
    "id": "PggGNgmpLjgE",
    "outputId": "fea68c02-6c9d-483a-dc80-815326c35f9d"
   },
   "outputs": [
    {
     "data": {
      "text/html": [
       "<div>\n",
       "<style scoped>\n",
       "    .dataframe tbody tr th:only-of-type {\n",
       "        vertical-align: middle;\n",
       "    }\n",
       "\n",
       "    .dataframe tbody tr th {\n",
       "        vertical-align: top;\n",
       "    }\n",
       "\n",
       "    .dataframe thead th {\n",
       "        text-align: right;\n",
       "    }\n",
       "</style>\n",
       "<table border=\"1\" class=\"dataframe\">\n",
       "  <thead>\n",
       "    <tr style=\"text-align: right;\">\n",
       "      <th></th>\n",
       "      <th>PassengerId</th>\n",
       "      <th>results</th>\n",
       "    </tr>\n",
       "  </thead>\n",
       "  <tbody>\n",
       "    <tr>\n",
       "      <th>0</th>\n",
       "      <td>892</td>\n",
       "      <td>0</td>\n",
       "    </tr>\n",
       "    <tr>\n",
       "      <th>1</th>\n",
       "      <td>893</td>\n",
       "      <td>1</td>\n",
       "    </tr>\n",
       "    <tr>\n",
       "      <th>2</th>\n",
       "      <td>894</td>\n",
       "      <td>0</td>\n",
       "    </tr>\n",
       "    <tr>\n",
       "      <th>3</th>\n",
       "      <td>895</td>\n",
       "      <td>0</td>\n",
       "    </tr>\n",
       "    <tr>\n",
       "      <th>4</th>\n",
       "      <td>896</td>\n",
       "      <td>1</td>\n",
       "    </tr>\n",
       "  </tbody>\n",
       "</table>\n",
       "</div>"
      ],
      "text/plain": [
       "   PassengerId  results\n",
       "0          892        0\n",
       "1          893        1\n",
       "2          894        0\n",
       "3          895        0\n",
       "4          896        1"
      ]
     },
     "execution_count": 53,
     "metadata": {},
     "output_type": "execute_result"
    }
   ],
   "source": [
    "pred = export_df[['PassengerId','results']]\n",
    "pred.head()"
   ]
  },
  {
   "cell_type": "code",
   "execution_count": 54,
   "metadata": {
    "executionInfo": {
     "elapsed": 9,
     "status": "ok",
     "timestamp": 1637622590945,
     "user": {
      "displayName": "Logistica Seoyon",
      "photoUrl": "https://lh3.googleusercontent.com/a/default-user=s64",
      "userId": "17743499552647287504"
     },
     "user_tz": 180
    },
    "id": "57AmYKK_Ln-D"
   },
   "outputs": [],
   "source": [
    "pred.to_csv('my_submission.csv',header = ['PassengerId','Survived'], index=False)"
   ]
  }
 ],
 "metadata": {
  "colab": {
   "authorship_tag": "ABX9TyO9KzXa0TLuVnnOmtwY0+5J",
   "mount_file_id": "1lKCRRtFqEA8W0djQ7rbHNWBZOSJ9MK6G",
   "name": "Random Forest.ipynb",
   "provenance": []
  },
  "kernelspec": {
   "display_name": "Python 3 (ipykernel)",
   "language": "python",
   "name": "python3"
  },
  "language_info": {
   "codemirror_mode": {
    "name": "ipython",
    "version": 3
   },
   "file_extension": ".py",
   "mimetype": "text/x-python",
   "name": "python",
   "nbconvert_exporter": "python",
   "pygments_lexer": "ipython3",
   "version": "3.10.0"
  }
 },
 "nbformat": 4,
 "nbformat_minor": 1
}
